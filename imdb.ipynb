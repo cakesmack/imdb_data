{
 "cells": [
  {
   "cell_type": "markdown",
   "id": "dfd25ec1",
   "metadata": {},
   "source": [
    "# IMDB Movie Data Analysis  "
   ]
  },
  {
   "cell_type": "markdown",
   "id": "19c56f38",
   "metadata": {},
   "source": [
    "## Data Loading & Initial Inspection\n",
    "\n",
    "Import pandas, load the data into a Pandas dataframe and inspect the data. \n",
    "This will include finding any null values that I will later need to either replace or remove, as well as displaying data types for each column which may need to be altered. "
   ]
  },
  {
   "cell_type": "code",
   "execution_count": null,
   "id": "6a68ca2e",
   "metadata": {},
   "outputs": [
    {
     "data": {
      "text/html": [
       "<div>\n",
       "<style scoped>\n",
       "    .dataframe tbody tr th:only-of-type {\n",
       "        vertical-align: middle;\n",
       "    }\n",
       "\n",
       "    .dataframe tbody tr th {\n",
       "        vertical-align: top;\n",
       "    }\n",
       "\n",
       "    .dataframe thead th {\n",
       "        text-align: right;\n",
       "    }\n",
       "</style>\n",
       "<table border=\"1\" class=\"dataframe\">\n",
       "  <thead>\n",
       "    <tr style=\"text-align: right;\">\n",
       "      <th></th>\n",
       "      <th>Poster_Link</th>\n",
       "      <th>Series_Title</th>\n",
       "      <th>Released_Year</th>\n",
       "      <th>Certificate</th>\n",
       "      <th>Runtime</th>\n",
       "      <th>Genre</th>\n",
       "      <th>IMDB_Rating</th>\n",
       "      <th>Overview</th>\n",
       "      <th>Meta_score</th>\n",
       "      <th>Director</th>\n",
       "      <th>Star1</th>\n",
       "      <th>Star2</th>\n",
       "      <th>Star3</th>\n",
       "      <th>Star4</th>\n",
       "      <th>No_of_Votes</th>\n",
       "      <th>Gross</th>\n",
       "    </tr>\n",
       "  </thead>\n",
       "  <tbody>\n",
       "    <tr>\n",
       "      <th>0</th>\n",
       "      <td>https://m.media-amazon.com/images/M/MV5BMDFkYT...</td>\n",
       "      <td>The Shawshank Redemption</td>\n",
       "      <td>1994</td>\n",
       "      <td>A</td>\n",
       "      <td>142 min</td>\n",
       "      <td>Drama</td>\n",
       "      <td>9.3</td>\n",
       "      <td>Two imprisoned men bond over a number of years...</td>\n",
       "      <td>80.0</td>\n",
       "      <td>Frank Darabont</td>\n",
       "      <td>Tim Robbins</td>\n",
       "      <td>Morgan Freeman</td>\n",
       "      <td>Bob Gunton</td>\n",
       "      <td>William Sadler</td>\n",
       "      <td>2343110</td>\n",
       "      <td>28,341,469</td>\n",
       "    </tr>\n",
       "    <tr>\n",
       "      <th>1</th>\n",
       "      <td>https://m.media-amazon.com/images/M/MV5BM2MyNj...</td>\n",
       "      <td>The Godfather</td>\n",
       "      <td>1972</td>\n",
       "      <td>A</td>\n",
       "      <td>175 min</td>\n",
       "      <td>Crime, Drama</td>\n",
       "      <td>9.2</td>\n",
       "      <td>An organized crime dynasty's aging patriarch t...</td>\n",
       "      <td>100.0</td>\n",
       "      <td>Francis Ford Coppola</td>\n",
       "      <td>Marlon Brando</td>\n",
       "      <td>Al Pacino</td>\n",
       "      <td>James Caan</td>\n",
       "      <td>Diane Keaton</td>\n",
       "      <td>1620367</td>\n",
       "      <td>134,966,411</td>\n",
       "    </tr>\n",
       "    <tr>\n",
       "      <th>2</th>\n",
       "      <td>https://m.media-amazon.com/images/M/MV5BMTMxNT...</td>\n",
       "      <td>The Dark Knight</td>\n",
       "      <td>2008</td>\n",
       "      <td>UA</td>\n",
       "      <td>152 min</td>\n",
       "      <td>Action, Crime, Drama</td>\n",
       "      <td>9.0</td>\n",
       "      <td>When the menace known as the Joker wreaks havo...</td>\n",
       "      <td>84.0</td>\n",
       "      <td>Christopher Nolan</td>\n",
       "      <td>Christian Bale</td>\n",
       "      <td>Heath Ledger</td>\n",
       "      <td>Aaron Eckhart</td>\n",
       "      <td>Michael Caine</td>\n",
       "      <td>2303232</td>\n",
       "      <td>534,858,444</td>\n",
       "    </tr>\n",
       "    <tr>\n",
       "      <th>3</th>\n",
       "      <td>https://m.media-amazon.com/images/M/MV5BMWMwMG...</td>\n",
       "      <td>The Godfather: Part II</td>\n",
       "      <td>1974</td>\n",
       "      <td>A</td>\n",
       "      <td>202 min</td>\n",
       "      <td>Crime, Drama</td>\n",
       "      <td>9.0</td>\n",
       "      <td>The early life and career of Vito Corleone in ...</td>\n",
       "      <td>90.0</td>\n",
       "      <td>Francis Ford Coppola</td>\n",
       "      <td>Al Pacino</td>\n",
       "      <td>Robert De Niro</td>\n",
       "      <td>Robert Duvall</td>\n",
       "      <td>Diane Keaton</td>\n",
       "      <td>1129952</td>\n",
       "      <td>57,300,000</td>\n",
       "    </tr>\n",
       "    <tr>\n",
       "      <th>4</th>\n",
       "      <td>https://m.media-amazon.com/images/M/MV5BMWU4N2...</td>\n",
       "      <td>12 Angry Men</td>\n",
       "      <td>1957</td>\n",
       "      <td>U</td>\n",
       "      <td>96 min</td>\n",
       "      <td>Crime, Drama</td>\n",
       "      <td>9.0</td>\n",
       "      <td>A jury holdout attempts to prevent a miscarria...</td>\n",
       "      <td>96.0</td>\n",
       "      <td>Sidney Lumet</td>\n",
       "      <td>Henry Fonda</td>\n",
       "      <td>Lee J. Cobb</td>\n",
       "      <td>Martin Balsam</td>\n",
       "      <td>John Fiedler</td>\n",
       "      <td>689845</td>\n",
       "      <td>4,360,000</td>\n",
       "    </tr>\n",
       "  </tbody>\n",
       "</table>\n",
       "</div>"
      ],
      "text/plain": [
       "                                         Poster_Link  \\\n",
       "0  https://m.media-amazon.com/images/M/MV5BMDFkYT...   \n",
       "1  https://m.media-amazon.com/images/M/MV5BM2MyNj...   \n",
       "2  https://m.media-amazon.com/images/M/MV5BMTMxNT...   \n",
       "3  https://m.media-amazon.com/images/M/MV5BMWMwMG...   \n",
       "4  https://m.media-amazon.com/images/M/MV5BMWU4N2...   \n",
       "\n",
       "               Series_Title Released_Year Certificate  Runtime  \\\n",
       "0  The Shawshank Redemption          1994           A  142 min   \n",
       "1             The Godfather          1972           A  175 min   \n",
       "2           The Dark Knight          2008          UA  152 min   \n",
       "3    The Godfather: Part II          1974           A  202 min   \n",
       "4              12 Angry Men          1957           U   96 min   \n",
       "\n",
       "                  Genre  IMDB_Rating  \\\n",
       "0                 Drama          9.3   \n",
       "1          Crime, Drama          9.2   \n",
       "2  Action, Crime, Drama          9.0   \n",
       "3          Crime, Drama          9.0   \n",
       "4          Crime, Drama          9.0   \n",
       "\n",
       "                                            Overview  Meta_score  \\\n",
       "0  Two imprisoned men bond over a number of years...        80.0   \n",
       "1  An organized crime dynasty's aging patriarch t...       100.0   \n",
       "2  When the menace known as the Joker wreaks havo...        84.0   \n",
       "3  The early life and career of Vito Corleone in ...        90.0   \n",
       "4  A jury holdout attempts to prevent a miscarria...        96.0   \n",
       "\n",
       "               Director           Star1           Star2          Star3  \\\n",
       "0        Frank Darabont     Tim Robbins  Morgan Freeman     Bob Gunton   \n",
       "1  Francis Ford Coppola   Marlon Brando       Al Pacino     James Caan   \n",
       "2     Christopher Nolan  Christian Bale    Heath Ledger  Aaron Eckhart   \n",
       "3  Francis Ford Coppola       Al Pacino  Robert De Niro  Robert Duvall   \n",
       "4          Sidney Lumet     Henry Fonda     Lee J. Cobb  Martin Balsam   \n",
       "\n",
       "            Star4  No_of_Votes        Gross  \n",
       "0  William Sadler      2343110   28,341,469  \n",
       "1    Diane Keaton      1620367  134,966,411  \n",
       "2   Michael Caine      2303232  534,858,444  \n",
       "3    Diane Keaton      1129952   57,300,000  \n",
       "4    John Fiedler       689845    4,360,000  "
      ]
     },
     "execution_count": 3,
     "metadata": {},
     "output_type": "execute_result"
    }
   ],
   "source": [
    "import pandas as pd\n",
    "\n",
    "file_path = \"imdb_top_1000.csv\"\n",
    "\n",
    "df = pd.read_csv(file_path)\n",
    "df.head()"
   ]
  },
  {
   "cell_type": "code",
   "execution_count": 4,
   "id": "dc8d0d18",
   "metadata": {},
   "outputs": [
    {
     "name": "stdout",
     "output_type": "stream",
     "text": [
      "<class 'pandas.core.frame.DataFrame'>\n",
      "RangeIndex: 1000 entries, 0 to 999\n",
      "Data columns (total 16 columns):\n",
      " #   Column         Non-Null Count  Dtype  \n",
      "---  ------         --------------  -----  \n",
      " 0   Poster_Link    1000 non-null   object \n",
      " 1   Series_Title   1000 non-null   object \n",
      " 2   Released_Year  1000 non-null   object \n",
      " 3   Certificate    899 non-null    object \n",
      " 4   Runtime        1000 non-null   object \n",
      " 5   Genre          1000 non-null   object \n",
      " 6   IMDB_Rating    1000 non-null   float64\n",
      " 7   Overview       1000 non-null   object \n",
      " 8   Meta_score     843 non-null    float64\n",
      " 9   Director       1000 non-null   object \n",
      " 10  Star1          1000 non-null   object \n",
      " 11  Star2          1000 non-null   object \n",
      " 12  Star3          1000 non-null   object \n",
      " 13  Star4          1000 non-null   object \n",
      " 14  No_of_Votes    1000 non-null   int64  \n",
      " 15  Gross          831 non-null    object \n",
      "dtypes: float64(2), int64(1), object(13)\n",
      "memory usage: 125.1+ KB\n"
     ]
    }
   ],
   "source": [
    "df.info()"
   ]
  },
  {
   "cell_type": "code",
   "execution_count": 5,
   "id": "c3bf4512",
   "metadata": {},
   "outputs": [
    {
     "data": {
      "text/html": [
       "<div>\n",
       "<style scoped>\n",
       "    .dataframe tbody tr th:only-of-type {\n",
       "        vertical-align: middle;\n",
       "    }\n",
       "\n",
       "    .dataframe tbody tr th {\n",
       "        vertical-align: top;\n",
       "    }\n",
       "\n",
       "    .dataframe thead th {\n",
       "        text-align: right;\n",
       "    }\n",
       "</style>\n",
       "<table border=\"1\" class=\"dataframe\">\n",
       "  <thead>\n",
       "    <tr style=\"text-align: right;\">\n",
       "      <th></th>\n",
       "      <th>IMDB_Rating</th>\n",
       "      <th>Meta_score</th>\n",
       "      <th>No_of_Votes</th>\n",
       "    </tr>\n",
       "  </thead>\n",
       "  <tbody>\n",
       "    <tr>\n",
       "      <th>count</th>\n",
       "      <td>1000.000000</td>\n",
       "      <td>843.000000</td>\n",
       "      <td>1.000000e+03</td>\n",
       "    </tr>\n",
       "    <tr>\n",
       "      <th>mean</th>\n",
       "      <td>7.949300</td>\n",
       "      <td>77.971530</td>\n",
       "      <td>2.736929e+05</td>\n",
       "    </tr>\n",
       "    <tr>\n",
       "      <th>std</th>\n",
       "      <td>0.275491</td>\n",
       "      <td>12.376099</td>\n",
       "      <td>3.273727e+05</td>\n",
       "    </tr>\n",
       "    <tr>\n",
       "      <th>min</th>\n",
       "      <td>7.600000</td>\n",
       "      <td>28.000000</td>\n",
       "      <td>2.508800e+04</td>\n",
       "    </tr>\n",
       "    <tr>\n",
       "      <th>25%</th>\n",
       "      <td>7.700000</td>\n",
       "      <td>70.000000</td>\n",
       "      <td>5.552625e+04</td>\n",
       "    </tr>\n",
       "    <tr>\n",
       "      <th>50%</th>\n",
       "      <td>7.900000</td>\n",
       "      <td>79.000000</td>\n",
       "      <td>1.385485e+05</td>\n",
       "    </tr>\n",
       "    <tr>\n",
       "      <th>75%</th>\n",
       "      <td>8.100000</td>\n",
       "      <td>87.000000</td>\n",
       "      <td>3.741612e+05</td>\n",
       "    </tr>\n",
       "    <tr>\n",
       "      <th>max</th>\n",
       "      <td>9.300000</td>\n",
       "      <td>100.000000</td>\n",
       "      <td>2.343110e+06</td>\n",
       "    </tr>\n",
       "  </tbody>\n",
       "</table>\n",
       "</div>"
      ],
      "text/plain": [
       "       IMDB_Rating  Meta_score   No_of_Votes\n",
       "count  1000.000000  843.000000  1.000000e+03\n",
       "mean      7.949300   77.971530  2.736929e+05\n",
       "std       0.275491   12.376099  3.273727e+05\n",
       "min       7.600000   28.000000  2.508800e+04\n",
       "25%       7.700000   70.000000  5.552625e+04\n",
       "50%       7.900000   79.000000  1.385485e+05\n",
       "75%       8.100000   87.000000  3.741612e+05\n",
       "max       9.300000  100.000000  2.343110e+06"
      ]
     },
     "execution_count": 5,
     "metadata": {},
     "output_type": "execute_result"
    }
   ],
   "source": [
    "df.describe()"
   ]
  },
  {
   "cell_type": "code",
   "execution_count": 6,
   "id": "9b61cf9d",
   "metadata": {},
   "outputs": [
    {
     "data": {
      "text/plain": [
       "Poster_Link        0\n",
       "Series_Title       0\n",
       "Released_Year      0\n",
       "Certificate      101\n",
       "Runtime            0\n",
       "Genre              0\n",
       "IMDB_Rating        0\n",
       "Overview           0\n",
       "Meta_score       157\n",
       "Director           0\n",
       "Star1              0\n",
       "Star2              0\n",
       "Star3              0\n",
       "Star4              0\n",
       "No_of_Votes        0\n",
       "Gross            169\n",
       "dtype: int64"
      ]
     },
     "execution_count": 6,
     "metadata": {},
     "output_type": "execute_result"
    }
   ],
   "source": [
    "df.isnull().sum()"
   ]
  },
  {
   "cell_type": "markdown",
   "id": "73f966a5",
   "metadata": {},
   "source": [
    "## Data Cleaning & Preparation\n",
    "\n",
    "This will include removing rows with missing values, correcting some, and covnerting columns to the correct data type."
   ]
  },
  {
   "cell_type": "code",
   "execution_count": 8,
   "id": "7c716044",
   "metadata": {},
   "outputs": [
    {
     "name": "stdout",
     "output_type": "stream",
     "text": [
      "<class 'pandas.core.frame.DataFrame'>\n",
      "Index: 831 entries, 0 to 997\n",
      "Data columns (total 16 columns):\n",
      " #   Column         Non-Null Count  Dtype  \n",
      "---  ------         --------------  -----  \n",
      " 0   Poster_Link    831 non-null    object \n",
      " 1   Series_Title   831 non-null    object \n",
      " 2   Released_Year  831 non-null    object \n",
      " 3   Certificate    785 non-null    object \n",
      " 4   Runtime        831 non-null    object \n",
      " 5   Genre          831 non-null    object \n",
      " 6   IMDB_Rating    831 non-null    float64\n",
      " 7   Overview       831 non-null    object \n",
      " 8   Meta_score     750 non-null    float64\n",
      " 9   Director       831 non-null    object \n",
      " 10  Star1          831 non-null    object \n",
      " 11  Star2          831 non-null    object \n",
      " 12  Star3          831 non-null    object \n",
      " 13  Star4          831 non-null    object \n",
      " 14  No_of_Votes    831 non-null    int64  \n",
      " 15  Gross          831 non-null    object \n",
      "dtypes: float64(2), int64(1), object(13)\n",
      "memory usage: 110.4+ KB\n"
     ]
    }
   ],
   "source": [
    "df.dropna(subset=['Gross'], inplace=True)\n",
    "\n",
    "df.info()\n"
   ]
  },
  {
   "cell_type": "code",
   "execution_count": 9,
   "id": "587379d7",
   "metadata": {},
   "outputs": [
    {
     "data": {
      "text/plain": [
       "array(['1994', '1972', '2008', '1974', '1957', '2003', '1993', '2010',\n",
       "       '1999', '2001', '1966', '2002', '1990', '1980', '1975', '2019',\n",
       "       '2014', '1998', '1997', '1995', '1991', '1977', '1954', '2011',\n",
       "       '2006', '2000', '1988', '1985', '1968', '1960', '1942', '1936',\n",
       "       '1931', '2018', '2016', '2017', '2012', '2009', '2007', '1984',\n",
       "       '1981', '1979', '1964', '1940', '2004', '1992', '1987', '1986',\n",
       "       '1983', '1976', '1973', '1971', '1965', '1962', '1959', '1958',\n",
       "       '1952', '1948', '1944', '1941', '1927', '1921', '2015', '2013',\n",
       "       '2005', '1989', '1963', '1955', '1950', '1925', '1924', '1996',\n",
       "       '1982', '1978', '1967', '1951', '1949', '1939', '1937', '1934',\n",
       "       '1928', '1926', '1970', '1969', '1961', '1946', '1930', '1956',\n",
       "       '1947', '1945', '1938', '1935', '1933', 'PG', '1953'], dtype=object)"
      ]
     },
     "execution_count": 9,
     "metadata": {},
     "output_type": "execute_result"
    }
   ],
   "source": [
    "df['Released_Year'].unique()"
   ]
  },
  {
   "cell_type": "code",
   "execution_count": 10,
   "id": "282ae348",
   "metadata": {},
   "outputs": [
    {
     "data": {
      "text/html": [
       "<div>\n",
       "<style scoped>\n",
       "    .dataframe tbody tr th:only-of-type {\n",
       "        vertical-align: middle;\n",
       "    }\n",
       "\n",
       "    .dataframe tbody tr th {\n",
       "        vertical-align: top;\n",
       "    }\n",
       "\n",
       "    .dataframe thead th {\n",
       "        text-align: right;\n",
       "    }\n",
       "</style>\n",
       "<table border=\"1\" class=\"dataframe\">\n",
       "  <thead>\n",
       "    <tr style=\"text-align: right;\">\n",
       "      <th></th>\n",
       "      <th>Poster_Link</th>\n",
       "      <th>Series_Title</th>\n",
       "      <th>Released_Year</th>\n",
       "      <th>Certificate</th>\n",
       "      <th>Runtime</th>\n",
       "      <th>Genre</th>\n",
       "      <th>IMDB_Rating</th>\n",
       "      <th>Overview</th>\n",
       "      <th>Meta_score</th>\n",
       "      <th>Director</th>\n",
       "      <th>Star1</th>\n",
       "      <th>Star2</th>\n",
       "      <th>Star3</th>\n",
       "      <th>Star4</th>\n",
       "      <th>No_of_Votes</th>\n",
       "      <th>Gross</th>\n",
       "    </tr>\n",
       "  </thead>\n",
       "  <tbody>\n",
       "    <tr>\n",
       "      <th>966</th>\n",
       "      <td>https://m.media-amazon.com/images/M/MV5BNjEzYj...</td>\n",
       "      <td>Apollo 13</td>\n",
       "      <td>PG</td>\n",
       "      <td>U</td>\n",
       "      <td>140 min</td>\n",
       "      <td>Adventure, Drama, History</td>\n",
       "      <td>7.6</td>\n",
       "      <td>NASA must devise a strategy to return Apollo 1...</td>\n",
       "      <td>77.0</td>\n",
       "      <td>Ron Howard</td>\n",
       "      <td>Tom Hanks</td>\n",
       "      <td>Bill Paxton</td>\n",
       "      <td>Kevin Bacon</td>\n",
       "      <td>Gary Sinise</td>\n",
       "      <td>269197</td>\n",
       "      <td>173,837,933</td>\n",
       "    </tr>\n",
       "  </tbody>\n",
       "</table>\n",
       "</div>"
      ],
      "text/plain": [
       "                                           Poster_Link Series_Title  \\\n",
       "966  https://m.media-amazon.com/images/M/MV5BNjEzYj...    Apollo 13   \n",
       "\n",
       "    Released_Year Certificate  Runtime                      Genre  \\\n",
       "966            PG           U  140 min  Adventure, Drama, History   \n",
       "\n",
       "     IMDB_Rating                                           Overview  \\\n",
       "966          7.6  NASA must devise a strategy to return Apollo 1...   \n",
       "\n",
       "     Meta_score    Director      Star1        Star2        Star3        Star4  \\\n",
       "966        77.0  Ron Howard  Tom Hanks  Bill Paxton  Kevin Bacon  Gary Sinise   \n",
       "\n",
       "     No_of_Votes        Gross  \n",
       "966       269197  173,837,933  "
      ]
     },
     "execution_count": 10,
     "metadata": {},
     "output_type": "execute_result"
    }
   ],
   "source": [
    "incorrect_row = df[df['Released_Year']== 'PG']\n",
    "incorrect_row"
   ]
  },
  {
   "cell_type": "code",
   "execution_count": 11,
   "id": "e57b3710",
   "metadata": {},
   "outputs": [],
   "source": [
    "df.loc[df['Released_Year'] == 'PG', 'Released_Year'] = 1995"
   ]
  },
  {
   "cell_type": "code",
   "execution_count": 12,
   "id": "5eff9584",
   "metadata": {},
   "outputs": [
    {
     "data": {
      "text/plain": [
       "array(['1994', '1972', '2008', '1974', '1957', '2003', '1993', '2010',\n",
       "       '1999', '2001', '1966', '2002', '1990', '1980', '1975', '2019',\n",
       "       '2014', '1998', '1997', '1995', '1991', '1977', '1954', '2011',\n",
       "       '2006', '2000', '1988', '1985', '1968', '1960', '1942', '1936',\n",
       "       '1931', '2018', '2016', '2017', '2012', '2009', '2007', '1984',\n",
       "       '1981', '1979', '1964', '1940', '2004', '1992', '1987', '1986',\n",
       "       '1983', '1976', '1973', '1971', '1965', '1962', '1959', '1958',\n",
       "       '1952', '1948', '1944', '1941', '1927', '1921', '2015', '2013',\n",
       "       '2005', '1989', '1963', '1955', '1950', '1925', '1924', '1996',\n",
       "       '1982', '1978', '1967', '1951', '1949', '1939', '1937', '1934',\n",
       "       '1928', '1926', '1970', '1969', '1961', '1946', '1930', '1956',\n",
       "       '1947', '1945', '1938', '1935', '1933', 1995, '1953'], dtype=object)"
      ]
     },
     "execution_count": 12,
     "metadata": {},
     "output_type": "execute_result"
    }
   ],
   "source": [
    "df['Released_Year'].unique()"
   ]
  },
  {
   "cell_type": "code",
   "execution_count": 13,
   "id": "89dae3a7",
   "metadata": {},
   "outputs": [],
   "source": [
    "df['Released_Year'] = pd.to_numeric(df['Released_Year'], errors='coerce')\n",
    "df['Released_Year'] = df['Released_Year'].astype('Int64')"
   ]
  },
  {
   "cell_type": "code",
   "execution_count": 14,
   "id": "06772193",
   "metadata": {},
   "outputs": [
    {
     "name": "stdout",
     "output_type": "stream",
     "text": [
      "<class 'pandas.core.frame.DataFrame'>\n",
      "Index: 831 entries, 0 to 997\n",
      "Data columns (total 16 columns):\n",
      " #   Column         Non-Null Count  Dtype  \n",
      "---  ------         --------------  -----  \n",
      " 0   Poster_Link    831 non-null    object \n",
      " 1   Series_Title   831 non-null    object \n",
      " 2   Released_Year  831 non-null    Int64  \n",
      " 3   Certificate    785 non-null    object \n",
      " 4   Runtime        831 non-null    object \n",
      " 5   Genre          831 non-null    object \n",
      " 6   IMDB_Rating    831 non-null    float64\n",
      " 7   Overview       831 non-null    object \n",
      " 8   Meta_score     750 non-null    float64\n",
      " 9   Director       831 non-null    object \n",
      " 10  Star1          831 non-null    object \n",
      " 11  Star2          831 non-null    object \n",
      " 12  Star3          831 non-null    object \n",
      " 13  Star4          831 non-null    object \n",
      " 14  No_of_Votes    831 non-null    int64  \n",
      " 15  Gross          831 non-null    object \n",
      "dtypes: Int64(1), float64(2), int64(1), object(12)\n",
      "memory usage: 111.2+ KB\n"
     ]
    }
   ],
   "source": [
    "df.info()"
   ]
  },
  {
   "cell_type": "code",
   "execution_count": 15,
   "id": "80b95523",
   "metadata": {},
   "outputs": [
    {
     "data": {
      "text/plain": [
       "0"
      ]
     },
     "execution_count": 15,
     "metadata": {},
     "output_type": "execute_result"
    }
   ],
   "source": [
    "df['Released_Year'].isnull().sum()"
   ]
  },
  {
   "cell_type": "code",
   "execution_count": 16,
   "id": "0a483eeb",
   "metadata": {},
   "outputs": [
    {
     "data": {
      "text/plain": [
       "<bound method NDFrame.describe of 0      142 min\n",
       "1      175 min\n",
       "2      152 min\n",
       "3      202 min\n",
       "4       96 min\n",
       "        ...   \n",
       "990    157 min\n",
       "991    144 min\n",
       "992     78 min\n",
       "994     87 min\n",
       "997    118 min\n",
       "Name: Runtime, Length: 831, dtype: object>"
      ]
     },
     "execution_count": 16,
     "metadata": {},
     "output_type": "execute_result"
    }
   ],
   "source": [
    "df['Runtime'].describe"
   ]
  },
  {
   "cell_type": "code",
   "execution_count": 17,
   "id": "92bc6468",
   "metadata": {},
   "outputs": [],
   "source": [
    "df['Runtime'] = df['Runtime'].str.replace(' min', '')\n",
    "df['Runtime'] = pd.to_numeric(df['Runtime'],errors='coerce')\n",
    "df['Runtime'] = df['Runtime'].astype('Int64')"
   ]
  },
  {
   "cell_type": "code",
   "execution_count": 18,
   "id": "d4eba313",
   "metadata": {},
   "outputs": [
    {
     "data": {
      "text/plain": [
       "array(['28,341,469', '134,966,411', '534,858,444', '57,300,000',\n",
       "       '4,360,000', '377,845,905', '107,928,762', '96,898,818',\n",
       "       '292,576,195', '37,030,102', '315,544,750', '330,252,182',\n",
       "       '6,100,000', '342,551,365', '171,479,930', '46,836,394',\n",
       "       '290,475,067', '112,000,000', '53,367,844', '188,020,017',\n",
       "       '7,563,397', '10,055,859', '216,540,909', '136,801,374',\n",
       "       '57,598,247', '100,125,643', '130,742,922', '322,740,140',\n",
       "       '269,061', '335,451,311', '13,092,000', '13,182,281', '53,089,891',\n",
       "       '132,384,315', '32,572,577', '187,705,427', '6,719,864',\n",
       "       '23,341,568', '19,501,238', '422,783,777', '204,843,350',\n",
       "       '11,990,401', '210,609,762', '5,321,508', '32,000,000',\n",
       "       '1,024,560', '163,245', '19,181', '1,661,096', '5,017,246',\n",
       "       '12,391,761', '190,241,310', '858,373,000', '678,815,482',\n",
       "       '209,726,015', '162,805,434', '448,139,099', '6,532,908',\n",
       "       '1,223,869', '223,808,164', '11,286,112', '707,481', '25,544,867',\n",
       "       '2,375,308', '248,159,971', '44,017,374', '83,471,511',\n",
       "       '78,900,000', '275,902', '8,175,000', '36,764,313', '288,475',\n",
       "       '159,227,644', '1,373,943', '687,185', '7,098,492', '6,857,096',\n",
       "       '120,540,719', '34,400,301', '33,225,499', '30,328,156',\n",
       "       '3,635,482', '130,096,601', '138,433,435', '933,933',\n",
       "       '191,796,233', '75,600,000', '2,832,029', '46,357,676',\n",
       "       '85,160,248', '51,973,029', '45,598,982', '309,125,409',\n",
       "       '11,487,676', '28,262,574', '159,600,000', '6,207,725',\n",
       "       '56,954,992', '15,000,000', '44,824,144', '18,600,000',\n",
       "       '13,275,000', '3,200,000', '8,819,028', '55,240', '332,930',\n",
       "       '5,720,000', '1,585,634', '28,877', '1,236,166', '5,450,000',\n",
       "       '898,575', '4,186,168', '85,080,171', '54,513,740', '342,370',\n",
       "       '20,186,659', '739,478', '1,429,534', '144,501', '1,626,289',\n",
       "       '7,461', '39,567', '6,391,436', '13,657,115', '128,012,934',\n",
       "       '293,004,164', '116,900,694', '1,113,541', '40,222,514',\n",
       "       '37,634,615', '415,004,880', '70,511,035', '2,197,331', '733,094',\n",
       "       '206,852,432', '1,223,240', '5,509,040', '4,711,096',\n",
       "       '170,742,341', '3,897,569', '64,616,940', '67,436,818',\n",
       "       '42,438,300', '101,157,447', '197,171,806', '280,015', '1,105,564',\n",
       "       '83,008,852', '4,135,750', '23,383,987', '234,723', '1,229,197',\n",
       "       '12,100,000', '25,000,000', '57,226', '12,562', '96,568', '10,177',\n",
       "       '5,014,000', '977,375', '3,759,854', '1,241,223', '2,006,788',\n",
       "       '3,492,754', '901,610', '226,277,068', '14,677,674', '3,107,072',\n",
       "       '165,520', '10,616,104', '923,221', '59,100,318', '167,767,189',\n",
       "       '67,209,615', '356,461,711', '2,804,874', '56,671,993',\n",
       "       '26,947,624', '117,624,028', '45,055,776', '857,524', '1,035,953',\n",
       "       '3,108,485', '61,002,302', '154,058,340', '148,095,302',\n",
       "       '381,011,219', '1,498,210', '217,581,231', '18,354,356',\n",
       "       '74,283,625', '2,217,561', '100,492,203', '23,530,892',\n",
       "       '1,111,061', '5,820,649', '14,131', '300,000', '70,099,045',\n",
       "       '380,843,261', '164,615,351', '5,383,834', '289,916,256', '70,147',\n",
       "       '293,506,292', '259,127', '125,618,201', '348,660', '17,498,804',\n",
       "       '2,734,044', '16,501,785', '24,611,975', '171,082', '309,811',\n",
       "       '5,535,405', '4,043,686', '600,200', '402,453,882', '25,010,410',\n",
       "       '5,216,888', '2,603,061', '95,860,116', '52,287,414',\n",
       "       '138,530,565', '2,181,987', '495,770', '13,782,838', '22,244,207',\n",
       "       '4,971,340', '32,868,943', '20,045,115', '48,979,328',\n",
       "       '117,235,247', '177,345', '29,000,000', '30,933,743', '1,742,348',\n",
       "       '39,481', '16,217,773', '102,021', '55,908', '4,050,000',\n",
       "       '1,526,000', '74,700,000', '752,045', '44,908,000', '9,600,000',\n",
       "       '3,969,893', '449,191', '10,900,000', '203,300', '198,676,459',\n",
       "       '172,885', '21,877', '539,540', '1,033,895', '8,178,001',\n",
       "       '151,101,803', '51,739,495', '228,433,663', '341,268,248',\n",
       "       '6,738,000', '1,506,975', '132,422,809', '5,566,534', '1,079,369',\n",
       "       '1,010,414', '2,625,803', '91,125,683', '333,176,600',\n",
       "       '92,054,159', '25,568,251', '216,428,042', '183,637,894',\n",
       "       '17,738,570', '100,119', '138,797,449', '169,708,112',\n",
       "       '363,070,709', '106,662', '10,950', '4,018,695', '141,319,928',\n",
       "       '106,954,678', '8,060', '623,279,547', '4,445,756', '27,298,285',\n",
       "       '163,566,459', '57,366,262', '227,471,070', '238,507',\n",
       "       '74,103,820', '5,990,075', '206,445,654', '167,445,960',\n",
       "       '66,208,183', '502,028', '2,380,788', '2,086,345', '61,649,911',\n",
       "       '1,787,378', '169,659', '305,413,918', '66,257,002', '261,441,092',\n",
       "       '1,530,386', '1,480,006', '22,455,976', '4,184,036', '6,203,044',\n",
       "       '776,665', '1,647,780', '5,595,428', '23,159,305', '3,296',\n",
       "       '24,475,416', '13,417,292', '57,141,459', '515,905', '75,082,668',\n",
       "       '70,906,973', '4,496,583', '63,895,607', '217,350,219',\n",
       "       '70,405,498', '218,967,620', '184,208,848', '27,545,445',\n",
       "       '178,800,000', '553,171', '30,857,814', '3,333,969', '4,542,825',\n",
       "       '38,400,000', '52,767,889', '30,177,511', '39,200,000',\n",
       "       '260,000,000', '50,000,000', '86,300,000', '53,267,000',\n",
       "       '232,906,145', '4,081,254', '29,133,000', '80,500,000', '541,940',\n",
       "       '102,308,889', '33,395,426', '104,945,305', '163,214,286',\n",
       "       '111,722,000', '14,500,000', '50,690', '8,284,000', '19,516,000',\n",
       "       '12,535,000', '11,900,000', '2,237,659', '17,570,324', '654,000',\n",
       "       '8,000,000', '23,650,000', '2,108,060', '55,000', '2,076,020',\n",
       "       '3,270,000', '50,970', '165,359,751', '3,313,513', '2,000,000',\n",
       "       '18,095,701', '258,168', '32,015,231', '5,202,582', '5,875,006',\n",
       "       '3,237,118', '315,058,289', '32,381,218', '349,555', '100,546,139',\n",
       "       '936,662,225', '8,114,627', '233,921,534', '138,730', '44,671,682',\n",
       "       '100,206,256', '6,739,492', '7,000,000', '2,084,637', '5,009,677',\n",
       "       '2,122,065', '115,646,235', '26,236,603', '410,800', '25,379,975',\n",
       "       '1,185,783', '257,730,019', '7,757,130', '13,756,082', '2,280,348',\n",
       "       '124,987,023', '21,002,919', '3,635,164', '318,412,101',\n",
       "       '13,542,874', '90,135,191', '249,358,727', '53,710,019',\n",
       "       '9,284,265', '1,059,830', '1,000,045', '121,661,683', '1,221,261',\n",
       "       '35,552,383', '32,534,850', '7,220,243', '245,852,179',\n",
       "       '26,400,640', '2,201,126', '12,281,500', '1,324,974', '36,948,322',\n",
       "       '56,362,352', '14,743,391', '18,254,702', '76,270,454',\n",
       "       '40,084,041', '9,929,135', '188,751', '20,605,209', '57,229,890',\n",
       "       '45,700,000', '37,823,676', '5,100,000', '70,600,000', '61,001',\n",
       "       '198,809', '61,700,000', '12,064,472', '89,029', '22,276,975',\n",
       "       '24,379,978', '13,474,588', '30,000,000', '88,300', '93,740,000',\n",
       "       '9,450,000', '7,630,000', '2,650,000', '10,464,000', '6,540,000',\n",
       "       '9,460,000', '296,000', '3,981,000', '2,537,520', '10,000,000',\n",
       "       '2,402,067', '188,373,161', '169,607,287', '40,442,052',\n",
       "       '48,023,088', '1,782,795', '47,695,120', '435,266', '532,177,324',\n",
       "       '408,084,349', '54,117,416', '108,101,214', '6,735,118',\n",
       "       '1,330,596', '2,852,400', '4,231,500', '169,209', '222,527,828',\n",
       "       '15,322,921', '1,670,773', '5,209,580', '434,038,008', '85,433',\n",
       "       '45,512,466', '177,002,924', '70,259,870', '128,392',\n",
       "       '102,515,793', '107,100,855', '6,460', '161,197,785', '547,292',\n",
       "       '258,366,855', '2,222,647', '10,095,170', '93,617,009',\n",
       "       '145,000,989', '9,030,581', '9,439,923', '303,003,568', '741,283',\n",
       "       '50,927,067', '35,061,555', '130,164,645', '760,507,625', '3,600',\n",
       "       '50,866,635', '59,891,098', '23,637,265', '127,509,326',\n",
       "       '2,921,738', '1,305', '38,405,088', '5,128,124', '128,985',\n",
       "       '25,514,517', '119,519,402', '15,280', '81,001,787', '16,756,372',\n",
       "       '181,655', '7,002,255', '54,234,062', '2,892,011', '115,654,751',\n",
       "       '128,078,872', '8,264,530', '233,632,142', '25,812', '28,965,197',\n",
       "       '32,481,825', '267,665,011', '659,325,379', '233,986',\n",
       "       '12,339,633', '48,323,648', '4,040,691', '5,887,457', '9,170,214',\n",
       "       '56,505,065', '32,416,586', '22,954,968', '1,769,305',\n",
       "       '183,875,760', '17,266,971', '5,617,391', '2,015,810', '1,999,955',\n",
       "       '57,504,069', '61,276,872', '52,096,475', '26,830,000',\n",
       "       '118,500,000', '34,603,943', '59,735,548', '5,923,044',\n",
       "       '70,136,369', '1,436,000', '61,503,218', '98,467,863',\n",
       "       '45,875,171', '34,700,291', '238,632,124', '21,500,000',\n",
       "       '2,500,000', '435,110,554', '106,260,000', '31,800,000',\n",
       "       '4,420,000', '193,817', '16,056,255', '42,765,000', '4,000,000',\n",
       "       '44,785,053', '17,550,741', '56,700,000', '72,000,000',\n",
       "       '102,272,727', '39,100,000', '2,616,000', '336,705', '335,609',\n",
       "       '324,591,735', '33,800,859', '176,040,665', '220,159,104',\n",
       "       '3,358,518', '3,333,000', '765,127', '35,893,537', '128,261,724',\n",
       "       '124,872,350', '6,743,776', '42,340,598', '2,199,675', '1,122,527',\n",
       "       '175,058', '259,766,572', '985,912', '17,654,912', '189,422,889',\n",
       "       '1,339,152', '71,177', '56,816,662', '257,760,692', '274,092,705',\n",
       "       '228,778,661', '83,861', '96,962,694', '146,408,305',\n",
       "       '277,322,503', '304,360,277', '132,092,958', '136,025,503',\n",
       "       '32,391,374', '295,983,305', '15,090,400', '18,593,156', '881,302',\n",
       "       '35,739,802', '1,752,214', '327,919', '25,442,958', '412,544',\n",
       "       '17,605,861', '33,080,084', '22,494,487', '1,054,361', '871,577',\n",
       "       '200,821,936', '4,398,392', '83,043,761', '53,606,916',\n",
       "       '54,580,300', '17,108,591', '176,241,941', '1,082,715',\n",
       "       '75,331,600', '44,585,453', '290,013,036', '77,911,774',\n",
       "       '75,286,229', '111,110,575', '4,890,878', '4,064,200',\n",
       "       '15,539,266', '40,311,852', '22,245,861', '108,638,745',\n",
       "       '104,454,762', '141,072', '21,995,263', '3,029,081', '183,417,150',\n",
       "       '151,086', '45,512,588', '52,037,603', '10,824,921', '2,807,390',\n",
       "       '76,631,907', '17,105,219', '368,234', '22,858,926', '148,478,011',\n",
       "       '63,540,020', '4,065,116', '41,909,762', '35,811,509',\n",
       "       '56,116,183', '4,414,535', '10,019,307', '21,848,932', '3,151,130',\n",
       "       '6,110,979', '77,324,422', '27,281,507', '48,169,908',\n",
       "       '75,505,856', '10,725,228', '141,340,178', '82,418,501',\n",
       "       '6,153,939', '5,080,409', '156,452,370', '1,544,889', '43,984,230',\n",
       "       '22,238,696', '7,153,487', '8,551,228', '10,631,333', '10,600,000',\n",
       "       '11,798,616', '54,000,000', '78,912,963', '47,212,904',\n",
       "       '54,800,000', '83,400,000', '47,000,000', '1,924,733',\n",
       "       '119,500,000', '29,800,000', '7,056,013', '15,630,710',\n",
       "       '35,900,000', '44,527,234', '45,300,000', '26,331', '28,350,000',\n",
       "       '51,081,062', '11,403,529', '83,957', '4,905,000', '52,709',\n",
       "       '10,550,000', '536,118', '76,408,097', '26,020,957', '142,502,728',\n",
       "       '566,356', '5,904,366', '24,801,212', '13,122,642', '845,464',\n",
       "       '389,813,101', '107,825,862', '18,340,051', '72,313,754',\n",
       "       '608,581,744', '248,757,044', '46,889,293', '109,767,581',\n",
       "       '1,092,800', '26,862,450', '37,707,719', '208,545,589',\n",
       "       '4,105,123', '41,003,371', '19,202,743', '215,288,866',\n",
       "       '171,243,005', '1,008,098', '251,513,985', '35,014,192',\n",
       "       '48,071,303', '75,605,492', '3,185,812', '75,590,286',\n",
       "       '209,028,679', '255,959,475', '9,422,422', '69,951,824',\n",
       "       '17,114,882', '38,634,938', '686,383', '88,513,495', '20,300,218',\n",
       "       '10,301,706', '24,633,730', '39,868,642', '6,013', '301,959,197',\n",
       "       '210,614,939', '23,089,926', '107,509,799', '24,149,632',\n",
       "       '56,000,369', '3,081,925', '697,181', '548,707', '6,167,817',\n",
       "       '5,739,376', '16,290,476', '45,289', '51,680,613', '13,060,843',\n",
       "       '57,938,693', '45,064,915', '52,364,010', '13,622,333',\n",
       "       '317,575,550', '96,522,687', '52,990,775', '51,401,758',\n",
       "       '132,072,926', '50,668,906', '15,070,285', '7,267,585',\n",
       "       '36,400,491', '120,620,254', '10,680,275', '14,378,331',\n",
       "       '49,100,000', '3,796,699', '43,182,776', '100,012,499',\n",
       "       '1,037,847', '71,516,617', '173,837,933', '1,464,625',\n",
       "       '40,903,593', '7,993,039', '52,929,168', '453,243', '1,794,187',\n",
       "       '285,761,243', '66,666,062', '92,823,600', '111,543,479',\n",
       "       '78,756,177', '49,530,280', '65,207,127', '2,150,000',\n",
       "       '119,285,432', '12,465,371', '22,490,039', '76,657,000',\n",
       "       '43,000,000', '35,000,000', '132,088,635', '959,000', '696,690',\n",
       "       '1,378,435', '141,843,612', '13,780,024', '30,500,000'],\n",
       "      dtype=object)"
      ]
     },
     "execution_count": 18,
     "metadata": {},
     "output_type": "execute_result"
    }
   ],
   "source": [
    "df['Gross'].unique()"
   ]
  },
  {
   "cell_type": "code",
   "execution_count": 19,
   "id": "46275aac",
   "metadata": {},
   "outputs": [
    {
     "data": {
      "text/plain": [
       "count           831\n",
       "unique          823\n",
       "top       4,360,000\n",
       "freq              5\n",
       "Name: Gross, dtype: object"
      ]
     },
     "execution_count": 19,
     "metadata": {},
     "output_type": "execute_result"
    }
   ],
   "source": [
    "df['Gross'].describe()"
   ]
  },
  {
   "cell_type": "code",
   "execution_count": 20,
   "id": "ab316236",
   "metadata": {},
   "outputs": [],
   "source": [
    "df['Gross'] = df['Gross'].str.replace(',', '')\n",
    "df['Gross'] = pd.to_numeric(df['Gross'], errors='coerce')"
   ]
  },
  {
   "cell_type": "code",
   "execution_count": 21,
   "id": "2d4b145d",
   "metadata": {},
   "outputs": [
    {
     "name": "stdout",
     "output_type": "stream",
     "text": [
      "<class 'pandas.core.frame.DataFrame'>\n",
      "Index: 831 entries, 0 to 997\n",
      "Data columns (total 16 columns):\n",
      " #   Column         Non-Null Count  Dtype  \n",
      "---  ------         --------------  -----  \n",
      " 0   Poster_Link    831 non-null    object \n",
      " 1   Series_Title   831 non-null    object \n",
      " 2   Released_Year  831 non-null    Int64  \n",
      " 3   Certificate    785 non-null    object \n",
      " 4   Runtime        831 non-null    Int64  \n",
      " 5   Genre          831 non-null    object \n",
      " 6   IMDB_Rating    831 non-null    float64\n",
      " 7   Overview       831 non-null    object \n",
      " 8   Meta_score     750 non-null    float64\n",
      " 9   Director       831 non-null    object \n",
      " 10  Star1          831 non-null    object \n",
      " 11  Star2          831 non-null    object \n",
      " 12  Star3          831 non-null    object \n",
      " 13  Star4          831 non-null    object \n",
      " 14  No_of_Votes    831 non-null    int64  \n",
      " 15  Gross          831 non-null    int64  \n",
      "dtypes: Int64(2), float64(2), int64(2), object(10)\n",
      "memory usage: 112.0+ KB\n"
     ]
    }
   ],
   "source": [
    "df.info()"
   ]
  },
  {
   "cell_type": "code",
   "execution_count": 22,
   "id": "2f7a99aa",
   "metadata": {},
   "outputs": [
    {
     "name": "stderr",
     "output_type": "stream",
     "text": [
      "C:\\Users\\cmack\\AppData\\Local\\Temp\\ipykernel_5456\\336391213.py:1: FutureWarning: A value is trying to be set on a copy of a DataFrame or Series through chained assignment using an inplace method.\n",
      "The behavior will change in pandas 3.0. This inplace method will never work because the intermediate object on which we are setting values always behaves as a copy.\n",
      "\n",
      "For example, when doing 'df[col].method(value, inplace=True)', try using 'df.method({col: value}, inplace=True)' or df[col] = df[col].method(value) instead, to perform the operation inplace on the original object.\n",
      "\n",
      "\n",
      "  df['Certificate'].fillna('Unknown', inplace=True)\n"
     ]
    },
    {
     "data": {
      "text/plain": [
       "0"
      ]
     },
     "execution_count": 22,
     "metadata": {},
     "output_type": "execute_result"
    }
   ],
   "source": [
    "df['Certificate'].fillna('Unknown', inplace=True)\n",
    "df['Certificate'].isnull().sum()"
   ]
  },
  {
   "cell_type": "code",
   "execution_count": 23,
   "id": "f1d27d84",
   "metadata": {},
   "outputs": [
    {
     "name": "stderr",
     "output_type": "stream",
     "text": [
      "C:\\Users\\cmack\\AppData\\Local\\Temp\\ipykernel_5456\\1468682369.py:2: FutureWarning: A value is trying to be set on a copy of a DataFrame or Series through chained assignment using an inplace method.\n",
      "The behavior will change in pandas 3.0. This inplace method will never work because the intermediate object on which we are setting values always behaves as a copy.\n",
      "\n",
      "For example, when doing 'df[col].method(value, inplace=True)', try using 'df.method({col: value}, inplace=True)' or df[col] = df[col].method(value) instead, to perform the operation inplace on the original object.\n",
      "\n",
      "\n",
      "  df['Meta_score'].fillna(median_metascore,inplace=True)\n"
     ]
    }
   ],
   "source": [
    "median_metascore = df['Meta_score'].median()\n",
    "df['Meta_score'].fillna(median_metascore,inplace=True)\n"
   ]
  },
  {
   "cell_type": "code",
   "execution_count": 24,
   "id": "45360c16",
   "metadata": {},
   "outputs": [
    {
     "data": {
      "text/plain": [
       "0"
      ]
     },
     "execution_count": 24,
     "metadata": {},
     "output_type": "execute_result"
    }
   ],
   "source": [
    "df['Meta_score'].isnull().sum()"
   ]
  },
  {
   "cell_type": "code",
   "execution_count": 25,
   "id": "4701c6f9",
   "metadata": {},
   "outputs": [
    {
     "name": "stdout",
     "output_type": "stream",
     "text": [
      "<class 'pandas.core.frame.DataFrame'>\n",
      "Index: 831 entries, 0 to 997\n",
      "Data columns (total 16 columns):\n",
      " #   Column         Non-Null Count  Dtype  \n",
      "---  ------         --------------  -----  \n",
      " 0   Poster_Link    831 non-null    object \n",
      " 1   Series_Title   831 non-null    object \n",
      " 2   Released_Year  831 non-null    Int64  \n",
      " 3   Certificate    831 non-null    object \n",
      " 4   Runtime        831 non-null    Int64  \n",
      " 5   Genre          831 non-null    object \n",
      " 6   IMDB_Rating    831 non-null    float64\n",
      " 7   Overview       831 non-null    object \n",
      " 8   Meta_score     831 non-null    float64\n",
      " 9   Director       831 non-null    object \n",
      " 10  Star1          831 non-null    object \n",
      " 11  Star2          831 non-null    object \n",
      " 12  Star3          831 non-null    object \n",
      " 13  Star4          831 non-null    object \n",
      " 14  No_of_Votes    831 non-null    int64  \n",
      " 15  Gross          831 non-null    int64  \n",
      "dtypes: Int64(2), float64(2), int64(2), object(10)\n",
      "memory usage: 112.0+ KB\n"
     ]
    }
   ],
   "source": [
    "df.info()"
   ]
  },
  {
   "cell_type": "markdown",
   "id": "ce53af45",
   "metadata": {},
   "source": [
    "## Exploratory Analysis"
   ]
  },
  {
   "cell_type": "markdown",
   "id": "0620ed72",
   "metadata": {},
   "source": [
    "### Critic Scores Vs. Audience Scores\n",
    "\n",
    "I will create a scatter plot here that will show any correlation between the Critics Ratings and the Viewer ratings.\n",
    "\n",
    "In the second chart, I will display the top rated directors based on their IMDb rating, only if they have more than 5 or more movies in the database."
   ]
  },
  {
   "cell_type": "code",
   "execution_count": 26,
   "id": "9e59a797",
   "metadata": {},
   "outputs": [
    {
     "name": "stdout",
     "output_type": "stream",
     "text": [
      "The Correlation betweeen IMDB Rating and Meta Score is  0.28\n"
     ]
    }
   ],
   "source": [
    "correlation = df['Meta_score'].corr(df['IMDB_Rating'])\n",
    "print(f'The Correlation betweeen IMDB Rating and Meta Score is {correlation: .2f}')"
   ]
  },
  {
   "cell_type": "code",
   "execution_count": null,
   "id": "251220d8",
   "metadata": {},
   "outputs": [
    {
     "data": {
      "image/png": "[encoded data removed]",
      "text/plain": [
       "<Figure size 1000x600 with 1 Axes>"
      ]
     },
     "metadata": {},
     "output_type": "display_data"
    }
   ],
   "source": [
    "import matplotlib.pyplot as plt\n",
    "import seaborn as sns\n",
    "\n",
    "sns.set_style(\"whitegrid\")\n",
    "\n",
    "plt.figure(figsize=(10, 6))\n",
    "sns.scatterplot(x='IMDB_Rating', y='Meta_score', data=df)\n",
    "\n",
    "plt.title('Audience vs. Critic Scores (IMDb Rating vs. Metascore)')\n",
    "plt.xlabel('IMDB Rating (Audience Score)')\n",
    "plt.ylabel('Metascore (Critic Score)')\n",
    "\n",
    "plt.show()"
   ]
  },
  {
   "cell_type": "markdown",
   "id": "74131d9f",
   "metadata": {},
   "source": [
    "### Top Director Performance"
   ]
  },
  {
   "cell_type": "code",
   "execution_count": null,
   "id": "2b77a6a0",
   "metadata": {},
   "outputs": [
    {
     "name": "stdout",
     "output_type": "stream",
     "text": [
      "DataFrame for plotting:\n",
      "               Director  avg_rating  movie_count\n",
      "0     Christopher Nolan    8.462500            8\n",
      "1  Francis Ford Coppola    8.400000            5\n",
      "2         Peter Jackson    8.400000            5\n",
      "3       Charles Chaplin    8.380000            5\n",
      "4       Stanley Kubrick    8.266667            6\n",
      "5          Sergio Leone    8.266667            6\n",
      "6          Billy Wilder    8.200000            6\n",
      "7     Quentin Tarantino    8.175000            8\n",
      "8       Martin Scorsese    8.170000           10\n",
      "9      Alfred Hitchcock    8.144444            9\n"
     ]
    },
    {
     "name": "stderr",
     "output_type": "stream",
     "text": [
      "C:\\Users\\cmack\\AppData\\Local\\Temp\\ipykernel_5456\\4022875730.py:23: FutureWarning: \n",
      "\n",
      "Passing `palette` without assigning `hue` is deprecated and will be removed in v0.14.0. Assign the `y` variable to `hue` and set `legend=False` for the same effect.\n",
      "\n",
      "  sns.barplot(x='avg_rating', y='Director', data=highest_rated_directors, palette='viridis')\n"
     ]
    },
    {
     "data": {
      "image/png": "[encoded data removed]",
      "text/plain": [
       "<Figure size 1200x700 with 1 Axes>"
      ]
     },
     "metadata": {},
     "output_type": "display_data"
    }
   ],
   "source": [
    "\n",
    "director_stats = df.groupby('Director').agg(\n",
    "    avg_rating=('IMDB_Rating', 'mean'),\n",
    "    movie_count=('Series_Title', 'count')\n",
    ")\n",
    "\n",
    "reliable_directors = director_stats[director_stats['movie_count'] >= 5]\n",
    "\n",
    "highest_rated_directors = reliable_directors.sort_values(\n",
    "    by='avg_rating', ascending=False\n",
    ").head(10).reset_index()\n",
    "\n",
    "print(\"DataFrame for plotting:\")\n",
    "print(highest_rated_directors)\n",
    "\n",
    "sns.set_style(\"whitegrid\")\n",
    "\n",
    "plt.figure(figsize=(12, 7))\n",
    "\n",
    "sns.barplot(x='avg_rating', y='Director', data=highest_rated_directors, palette='viridis')\n",
    "\n",
    "plt.title('Top 10 Highest-Rated Directors (min. 5 movies)', fontsize=16)\n",
    "plt.xlabel('Average IMDB Rating', fontsize=12)\n",
    "plt.ylabel('Director', fontsize=12)\n",
    "\n",
    "plt.show()"
   ]
  }
 ],
 "metadata": {
  "kernelspec": {
   "display_name": "Python 3",
   "language": "python",
   "name": "python3"
  },
  "language_info": {
   "codemirror_mode": {
    "name": "ipython",
    "version": 3
   },
   "file_extension": ".py",
   "mimetype": "text/x-python",
   "name": "python",
   "nbconvert_exporter": "python",
   "pygments_lexer": "ipython3",
   "version": "3.11.2"
  }
 },
 "nbformat": 4,
 "nbformat_minor": 5
}
